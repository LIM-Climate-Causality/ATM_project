{
 "cells": [
  {
   "cell_type": "markdown",
   "metadata": {},
   "source": [
    "# Advanced Training Module\n",
    "__Background:__ Atmospheric blocking is linked to extreme weather events in the mid latitudes in both winter ans summer (see e.g. herehttps://wcd.copernicus.org/articles/3/305/2022/). Atmospheric blocking can be quantified using the AGP index (@ Ernest, please share reference). There are further different ways to quantify extreme weather events (for example temperature anomalies exceeding a certain threshold). For extreme winter weather, there is this recent AWISS index (see e.g. ```https://journals.ametsoc.org/view/journals/apme/54/8/jamc-d-14-0217.1.xml```)\n",
    "\n",
    "__Task:__ Investigate the role between blocking in winter and severe winter weather? Different steps include:\n",
    "\n",
    "- prepare regional blocking indices for winter (time series of the regional averages of blocking)\n",
    "- compute the associated AWISS index for blocking events\n",
    "- is there a relationship between the persistence of blocking and the winter severity?\n",
    "- is there a trend in the severity of winter weather and blocking events (due to global warming). In other words, are the impacts of winter blocking getting more or less severe?\n",
    "\n",
    "Below are a few lines of code to read the data and access the variables"
   ]
  },
  {
   "cell_type": "code",
   "execution_count": null,
   "metadata": {},
   "outputs": [],
   "source": [
    "# Import python packages\n",
    "import xarray as xr\n",
    "import matplotlib.pyplot as plt\n",
    "import numpy as np\n",
    "import pandas as pd\n",
    "import warnings\n",
    "warnings.filterwarnings('ignore') # Suppress warnings for cleaner output"
   ]
  },
  {
   "cell_type": "code",
   "execution_count": null,
   "metadata": {},
   "outputs": [],
   "source": [
    "# Load the datasets\n",
    "# Load all Blocking_1D and AWSSI NetCDF files and combine them by coordinates\n",
    "# The dataset has been limited to the winter months (i.e. Nov, Dec, Jan, Feb., and Mar.)\n",
    "# The region is between 55 to 75 degree latitude and -180 to 180 degree longitude\n",
    "# Change the directory accordingly\n",
    "ds_index = xr.open_mfdataset(\n",
    "    '/path/to/dataset/Blocking_1D_*_processed.nc',\n",
    "    combine='by_coords'\n",
    ")\n",
    "\n",
    "ds_awssi = xr.open_mfdataset(\n",
    "    '/path/to/dataset/era5_awssi_*_processed.nc',\n",
    "    combine='by_coords'\n",
    ")"
   ]
  },
  {
   "cell_type": "code",
   "execution_count": null,
   "metadata": {},
   "outputs": [],
   "source": [
    "# Extract variables from the datasets\n",
    "# Extract blocking events data\n",
    "blocking_events_all = ds_index['blocking_events']\n",
    "\n",
    "# Extract AWSSI total and temperature data\n",
    "awssi_events_all = ds_awssi['awssi_total']\n",
    "awssi_temp = ds_awssi['awssi_t2m']"
   ]
  },
  {
   "cell_type": "code",
   "execution_count": null,
   "metadata": {},
   "outputs": [],
   "source": [
    "print(\n",
    "    blocking_events_all,\n",
    "    awssi_events_all,\n",
    "    awssi_temp\n",
    "    )"
   ]
  }
 ],
 "metadata": {
  "kernelspec": {
   "display_name": "esmvaltool_env",
   "language": "python",
   "name": "python3"
  },
  "language_info": {
   "name": "python",
   "version": "3.10.14"
  }
 },
 "nbformat": 4,
 "nbformat_minor": 2
}
